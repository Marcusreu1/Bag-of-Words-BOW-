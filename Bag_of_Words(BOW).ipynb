{
  "nbformat": 4,
  "nbformat_minor": 0,
  "metadata": {
    "colab": {
      "provenance": [],
      "authorship_tag": "ABX9TyPDuZiBCffpMDX/lsZ6tDzs",
      "include_colab_link": true
    },
    "kernelspec": {
      "name": "python3",
      "display_name": "Python 3"
    },
    "language_info": {
      "name": "python"
    }
  },
  "cells": [
    {
      "cell_type": "markdown",
      "metadata": {
        "id": "view-in-github",
        "colab_type": "text"
      },
      "source": [
        "<a href=\"https://colab.research.google.com/github/Marcusreu1/Bag-of-Words-BOW-/blob/main/Bag_of_Words(BOW).ipynb\" target=\"_parent\"><img src=\"https://colab.research.google.com/assets/colab-badge.svg\" alt=\"Open In Colab\"/></a>"
      ]
    },
    {
      "cell_type": "markdown",
      "source": [
        "#Introduccion al BOW\n",
        "En este repositorio explicare como hacer una bolsa de palabras en python para poder hacer clasificacion de texto, el proceso para realizar esto seria la imagen de abajo"
      ],
      "metadata": {
        "id": "c0gqQ60BKG2W"
      }
    },
    {
      "cell_type": "markdown",
      "source": [
        "![image.png](data:image/png;base64,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)"
      ],
      "metadata": {
        "id": "NXaW9dZFKvd5"
      }
    },
    {
      "cell_type": "markdown",
      "source": [
        "#importar librerias"
      ],
      "metadata": {
        "id": "dYseYTpoz-sk"
      }
    },
    {
      "cell_type": "code",
      "execution_count": 15,
      "metadata": {
        "colab": {
          "base_uri": "https://localhost:8080/"
        },
        "id": "BtzryWFyJmA4",
        "outputId": "9632b54c-faac-4ae3-84dd-7dcd72259f44"
      },
      "outputs": [
        {
          "output_type": "stream",
          "name": "stdout",
          "text": [
            "Requirement already satisfied: nltk in /usr/local/lib/python3.10/dist-packages (3.8.1)\n",
            "Requirement already satisfied: click in /usr/local/lib/python3.10/dist-packages (from nltk) (8.1.7)\n",
            "Requirement already satisfied: joblib in /usr/local/lib/python3.10/dist-packages (from nltk) (1.3.2)\n",
            "Requirement already satisfied: regex>=2021.8.3 in /usr/local/lib/python3.10/dist-packages (from nltk) (2023.12.25)\n",
            "Requirement already satisfied: tqdm in /usr/local/lib/python3.10/dist-packages (from nltk) (4.66.2)\n"
          ]
        },
        {
          "output_type": "stream",
          "name": "stderr",
          "text": [
            "[nltk_data] Downloading package punkt to /root/nltk_data...\n",
            "[nltk_data]   Package punkt is already up-to-date!\n"
          ]
        }
      ],
      "source": [
        "#import\n",
        "!pip install nltk\n",
        "import numpy as np\n",
        "import nltk\n",
        "from nltk.tokenize import word_tokenize\n",
        "from collections import defaultdict\n",
        "nltk.download('punkt')\n",
        "\n",
        "#data\n",
        "data=['She loves pizza, pizza is delicious.','She is a good person.','good people are the best.']"
      ]
    },
    {
      "cell_type": "markdown",
      "source": [],
      "metadata": {
        "id": "mGALZF2C3wRy"
      }
    },
    {
      "cell_type": "markdown",
      "source": [
        "#limpiar data,tokenizar y almacenar vocabulario"
      ],
      "metadata": {
        "id": "dJWc0lSE0uxZ"
      }
    },
    {
      "cell_type": "code",
      "source": [
        "#se pone una lista vacia para almacenar las sentencias\n",
        "sentences = []\n",
        "\n",
        "vocab = []\n",
        "\n",
        "#se crea un bucle dentro de los valores de la data\n",
        "for sent in data:\n",
        "    #se usa esta funcion de nltk para tokenizar una sentencia\n",
        "    x = word_tokenize(sent)\n",
        "    #convierte la sentencia a minusculas y con la funcion isalpha revisa si hay otro tipo de caracter\n",
        "    sentence = [w.lower() for w in x if w.isalpha() ]\n",
        "    #agrega la sentencia a la lista vacia de sentencias\n",
        "    sentences.append(sentence)\n",
        "    #este bucle agrega palabras que de las sentencias que no esten en el vocabulario\n",
        "    for word in sentence:\n",
        "        if word not in vocab:\n",
        "            vocab.append(word)\n",
        "\n",
        "len_vector = len(vocab)\n",
        "len_vector"
      ],
      "metadata": {
        "colab": {
          "base_uri": "https://localhost:8080/"
        },
        "id": "NG938omQ0xXo",
        "outputId": "763e5222-b772-47d4-d137-83596c84e133"
      },
      "execution_count": 16,
      "outputs": [
        {
          "output_type": "execute_result",
          "data": {
            "text/plain": [
              "12"
            ]
          },
          "metadata": {},
          "execution_count": 16
        }
      ]
    },
    {
      "cell_type": "markdown",
      "source": [
        "#agregar indice a las palabras"
      ],
      "metadata": {
        "id": "__9Zgh8y3ob0"
      }
    },
    {
      "cell_type": "code",
      "source": [
        "#creamos indice vacio\n",
        "index_words={}\n",
        "\n",
        "#creamos contador\n",
        "i=0\n",
        "\n",
        "#bucle que sume 1 por cada palabra en vocab\n",
        "for word in vocab:\n",
        "  index_words[word]= i\n",
        "  i=+1"
      ],
      "metadata": {
        "id": "8OxlPAwP4UtA"
      },
      "execution_count": 18,
      "outputs": []
    },
    {
      "cell_type": "markdown",
      "source": [
        "#Generar vectores\n"
      ],
      "metadata": {
        "id": "65lwq2vB5vNJ"
      }
    },
    {
      "cell_type": "code",
      "source": [
        "#se crea la funcion bag_of_words\n",
        "def bag_of_words(sent):\n",
        "    #se crea esta variable con la funcion de defaultdict\n",
        "    count_dict = defaultdict(int)\n",
        "    #se crea un array de zeros con el tamaño del vector en este caso 12\n",
        "    vec = np.zeros(len_vector)\n",
        "    #crea un bucle que itera el contador en 1 segun el count_dict\n",
        "    for item in sent:\n",
        "        count_dict[item] += 1\n",
        "    #calcula el vector\n",
        "    for key,item in count_dict.items():\n",
        "        vec[index_words[key]] = item\n",
        "    return vec"
      ],
      "metadata": {
        "id": "0pVDUat26KB2"
      },
      "execution_count": 27,
      "outputs": []
    },
    {
      "cell_type": "markdown",
      "source": [
        "#test"
      ],
      "metadata": {
        "id": "FZp4KFDJ9sca"
      }
    },
    {
      "cell_type": "code",
      "source": [
        "vector = bag_of_words(sentences[2])\n",
        "print(vector)"
      ],
      "metadata": {
        "colab": {
          "base_uri": "https://localhost:8080/"
        },
        "id": "meD6kyM092t1",
        "outputId": "a966e487-31fb-4cac-e9c8-4f9052cc98ea"
      },
      "execution_count": 29,
      "outputs": [
        {
          "output_type": "stream",
          "name": "stdout",
          "text": [
            "[0. 1. 0. 0. 0. 0. 0. 0. 0. 0. 0. 0.]\n"
          ]
        }
      ]
    }
  ]
}